{
 "cells": [
  {
   "cell_type": "code",
   "execution_count": 0,
   "metadata": {
    "application/vnd.databricks.v1+cell": {
     "cellMetadata": {
      "byteLimit": 2048000,
      "rowLimit": 10000
     },
     "inputWidgets": {},
     "nuid": "f17a2bea-2984-4642-8d87-0cb14c7ebe6a",
     "showTitle": true,
     "tableResultSettingsMap": {},
     "title": "Select no MSK"
    }
   },
   "outputs": [],
   "source": [
    "-- removing new code\n",
    "\n",
    "-- Codigo alterado Ricardo.\n",
    "\n",
    "CREATE OR REFRESH STREAMING TABLE clickstream_bronze\n",
    "AS\n",
    "SELECT\n",
    "  from_json(\n",
    "    CAST(value AS STRING),\n",
    "    \"SESSION_ID STRING, TIMESTAMP TIMESTAMP, PAGE_NAME STRING, BROWSER_FAMILY STRING, BROWSER_VERSION STRING, OS_FAMILY STRING, DEVICE_FAMILY STRING, DEVICE_BRAND STRING, DEVICE_MODEL STRING, CITY STRING, _rescued_data STRING\"\n",
    "  ) AS kafka_value\n",
    "FROM\n",
    "  STREAM (\n",
    "    read_kafka(\n",
    "      bootstrapServers => '${bootstrapservers}',\n",
    "      subscribe => '${topic}',\n",
    "      `kafka.sasl.mechanism` => 'AWS_MSK_IAM',\n",
    "      `kafka.sasl.jaas.config` => \"shadedmskiam.software.amazon.msk.auth.iam.IAMLoginModule required;\",\n",
    "      `kafka.security.protocol` => 'SASL_SSL',\n",
    "      `startingOffsets`=> 'earliest',\n",
    "      `kafka.sasl.client.callback.handler.class` => \"shadedmskiam.software.amazon.msk.auth.iam.IAMClientCallbackHandler\"\n",
    "    )\n",
    "  )"
   ]
  },
  {
   "cell_type": "markdown",
   "metadata": {
    "application/vnd.databricks.v1+cell": {
     "cellMetadata": {},
     "inputWidgets": {},
     "nuid": "a9c3677b-e1dc-4d79-9967-fd6a649c7f15",
     "showTitle": false,
     "tableResultSettingsMap": {},
     "title": ""
    }
   },
   "source": [
    "inserir desenho medallion Again"
   ]
  },
  {
   "cell_type": "code",
   "execution_count": 0,
   "metadata": {
    "application/vnd.databricks.v1+cell": {
     "cellMetadata": {
      "byteLimit": 2048000,
      "rowLimit": 10000
     },
     "inputWidgets": {},
     "nuid": "6ae270e6-7a95-492b-843f-85503cbea6a9",
     "showTitle": true,
     "tableResultSettingsMap": {},
     "title": "Criando tabela \"streaming\" lendo da tabela raw para a tabela CLICKSTREAM"
    }
   },
   "outputs": [],
   "source": [
    "CREATE OR REFRESH STREAMING TABLE clickstream_silver\n",
    "(\n",
    "  CONSTRAINT session_id_not_null EXPECT (SESSION_ID IS NOT NULL)  ,\n",
    "  CONSTRAINT timestamp_not_null EXPECT (TIMESTAMP IS NOT NULL) ON VIOLATION DROP ROW,\n",
    "  CONSTRAINT page_name_not_null EXPECT (PAGE_NAME IS NOT NULL) ,\n",
    "  CONSTRAINT browser_family_not_null EXPECT (BROWSER_FAMILY IS NOT NULL) ,\n",
    "  CONSTRAINT browser_version_not_null EXPECT (BROWSER_VERSION IS NOT NULL) ,\n",
    "  CONSTRAINT os_family_not_null EXPECT (OS_FAMILY IS NOT NULL) ,\n",
    "  CONSTRAINT device_family_not_null EXPECT (DEVICE_FAMILY IS NOT NULL) ,\n",
    "  CONSTRAINT device_brand_not_null EXPECT (DEVICE_BRAND IS NOT NULL) ,\n",
    "  CONSTRAINT device_model_not_null EXPECT (DEVICE_MODEL IS NOT NULL) ,\n",
    "  CONSTRAINT city_not_null EXPECT (CITY IS NOT NULL) ON VIOLATION DROP ROW,\n",
    "  CONSTRAINT rescued_data EXPECT (_rescued_data IS NULL) ON VIOLATION DROP ROW\n",
    ") \n",
    "AS\n",
    "SELECT\n",
    "  kafka_value.*\n",
    "FROM\n",
    "  STREAM(clickstream_bronze)"
   ]
  },
  {
   "cell_type": "code",
   "execution_count": 0,
   "metadata": {
    "application/vnd.databricks.v1+cell": {
     "cellMetadata": {},
     "inputWidgets": {},
     "nuid": "170da185-fb62-4b30-b73d-c25772a63896",
     "showTitle": true,
     "tableResultSettingsMap": {},
     "title": "Criando tabelas adicionais (view materializadas)"
    }
   },
   "outputs": [],
   "source": [
    "CREATE OR REPLACE MATERIALIZED VIEW clickstream_gold_clicks_total_by_os_family AS\n",
    "SELECT\n",
    "  OS_FAMILY,\n",
    "  COUNT(*) AS Count_OS_Family\n",
    "FROM\n",
    "  clickstream_silver\n",
    "GROUP BY\n",
    "  OS_FAMILY;\n",
    "\n",
    "CREATE OR REPLACE MATERIALIZED VIEW clickstream_gold_clicks_total_by_device_family AS\n",
    "SELECT\n",
    "  DEVICE_FAMILY,\n",
    "  COUNT(*) AS Count_Device_Family\n",
    "FROM\n",
    "  clickstream_silver\n",
    "GROUP BY\n",
    "  DEVICE_FAMILY;\n",
    "\n",
    "CREATE OR REPLACE MATERIALIZED VIEW clickstream_gold_clicks_total_by_city AS\n",
    "SELECT\n",
    "  CITY,\n",
    "  COUNT(*) AS Count_City\n",
    "FROM\n",
    "  clickstream_silver\n",
    "GROUP BY\n",
    "  CITY;\n"
   ]
  }
 ],
 "metadata": {
  "application/vnd.databricks.v1+notebook": {
   "computePreferences": null,
   "dashboards": [],
   "environmentMetadata": {
    "base_environment": "",
    "environment_version": "2"
   },
   "inputWidgetPreferences": null,
   "language": "sql",
   "notebookMetadata": {
    "mostRecentlyExecutedCommandWithImplicitDF": {
     "commandId": -1,
     "dataframes": [
      "_sqldf"
     ]
    },
    "pythonIndentUnit": 4
   },
   "notebookName": "02a - DLT - Reading Kafka",
   "widgets": {}
  },
  "language_info": {
   "name": "sql"
  }
 },
 "nbformat": 4,
 "nbformat_minor": 0
}
