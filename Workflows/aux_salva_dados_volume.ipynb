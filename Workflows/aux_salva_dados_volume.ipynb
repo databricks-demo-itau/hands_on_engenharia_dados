{
 "cells": [
  {
   "cell_type": "code",
   "execution_count": 0,
   "metadata": {
    "application/vnd.databricks.v1+cell": {
     "cellMetadata": {
      "byteLimit": 2048000,
      "rowLimit": 10000
     },
     "inputWidgets": {},
     "nuid": "c7ff4b7b-9992-4c63-9d5f-247e887ba93c",
     "showTitle": false,
     "tableResultSettingsMap": {},
     "title": ""
    }
   },
   "outputs": [],
   "source": [
    "user_name = dbutils.notebook.entry_point.getDbutils().notebook().getContext().userName()\n",
    "user_name = user_name.toString().split('@')[0].split('(')[1].replace('.', '_')"
   ]
  },
  {
   "cell_type": "code",
   "execution_count": 0,
   "metadata": {
    "application/vnd.databricks.v1+cell": {
     "cellMetadata": {
      "byteLimit": 2048000,
      "rowLimit": 10000
     },
     "inputWidgets": {},
     "nuid": "28764ab6-ef57-490a-bb93-61fa62880b84",
     "showTitle": false,
     "tableResultSettingsMap": {},
     "title": ""
    }
   },
   "outputs": [],
   "source": [
    "volume_path = f\"/Volumes/dev_hands_on/{user_name}/raw_data\"\n",
    "print(volume_path)"
   ]
  },
  {
   "cell_type": "code",
   "execution_count": 0,
   "metadata": {
    "application/vnd.databricks.v1+cell": {
     "cellMetadata": {
      "byteLimit": 2048000,
      "rowLimit": 10000
     },
     "inputWidgets": {},
     "nuid": "259c64c5-8396-4f62-96ff-4d1f57981156",
     "showTitle": false,
     "tableResultSettingsMap": {},
     "title": ""
    }
   },
   "outputs": [],
   "source": [
    "%pip install Faker"
   ]
  },
  {
   "cell_type": "code",
   "execution_count": 0,
   "metadata": {
    "application/vnd.databricks.v1+cell": {
     "cellMetadata": {
      "byteLimit": 2048000,
      "rowLimit": 10000
     },
     "inputWidgets": {},
     "nuid": "97f4eab0-a084-4175-903f-d023c646c1ac",
     "showTitle": false,
     "tableResultSettingsMap": {},
     "title": ""
    }
   },
   "outputs": [],
   "source": [
    "try:\n",
    "  dbutils.fs.ls(volume_path+\"/transactions\")\n",
    "  dbutils.fs.ls(volume_path+\"/customers\")\n",
    "\n",
    "  from pyspark.sql import functions as F\n",
    "  from faker import Faker\n",
    "  from collections import OrderedDict \n",
    "  import uuid\n",
    "  fake = Faker()\n",
    "  import random\n",
    "\n",
    "  fake_firstname = F.udf(fake.first_name)\n",
    "  fake_lastname = F.udf(fake.last_name)\n",
    "  fake_email = F.udf(fake.ascii_company_email)\n",
    "  fake_date = F.udf(lambda:fake.date_time_this_month().strftime(\"%m-%d-%Y %H:%M:%S\"))\n",
    "  fake_address = F.udf(fake.address)\n",
    "  operations = OrderedDict([(\"APPEND\", 0.5),(\"DELETE\", 0.1),(\"UPDATE\", 0.3),(None, 0.01)])\n",
    "  fake_operation = F.udf(lambda:fake.random_elements(elements=operations, length=1)[0])\n",
    "  fake_id = F.udf(lambda: str(uuid.uuid4()) if random.uniform(0, 1) < 0.98 else None)\n",
    "\n",
    "  df = spark.range(0, 100000).repartition(100)\n",
    "  df = df.withColumn(\"id\", fake_id())\n",
    "  df = df.withColumn(\"firstname\", fake_firstname())\n",
    "  df = df.withColumn(\"lastname\", fake_lastname())\n",
    "  df = df.withColumn(\"email\", fake_email())\n",
    "  df = df.withColumn(\"address\", fake_address())\n",
    "  df = df.withColumn(\"operation\", fake_operation())\n",
    "  df_customers = df.withColumn(\"operation_date\", fake_date())\n",
    "  df_customers.repartition(100).write.format(\"json\").mode(\"append\").save(volume_path+\"/customers\")\n",
    "\n",
    "  df = spark.range(0, 10000).repartition(20)\n",
    "  df = df.withColumn(\"id\", fake_id())\n",
    "  df = df.withColumn(\"transaction_date\", fake_date())\n",
    "  df = df.withColumn(\"amount\", F.round(F.rand()*1000))\n",
    "  df = df.withColumn(\"item_count\", F.round(F.rand()*10))\n",
    "  df = df.withColumn(\"operation\", fake_operation())\n",
    "  df = df.withColumn(\"operation_date\", fake_date())\n",
    "  #Join with the customer to get the same IDs generated.\n",
    "  df = df.withColumn(\"t_id\", F.monotonically_increasing_id()).join(spark.read.json(volume_path+\"/customers\").select(\"id\").withColumnRenamed(\"id\", \"customer_id\").withColumn(\"t_id\", F.monotonically_increasing_id()), \"t_id\").drop(\"t_id\")\n",
    "  df.repartition(10).write.format(\"json\").mode(\"append\").save(volume_path+\"/transactions\")\n",
    "except Exception as e:  \n",
    "  print(f\"É necessario instalar o dbdemos dlt-cdc antes de executar este notebook.\")\n",
    "  print(e)\n"
   ]
  }
 ],
 "metadata": {
  "application/vnd.databricks.v1+notebook": {
   "computePreferences": null,
   "dashboards": [],
   "environmentMetadata": {
    "base_environment": "",
    "environment_version": "2"
   },
   "inputWidgetPreferences": null,
   "language": "python",
   "notebookMetadata": {
    "pythonIndentUnit": 4
   },
   "notebookName": "aux_salva_dados_volume",
   "widgets": {}
  },
  "language_info": {
   "name": "python"
  }
 },
 "nbformat": 4,
 "nbformat_minor": 0
}
